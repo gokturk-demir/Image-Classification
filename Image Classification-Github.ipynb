{
 "cells": [
  {
   "cell_type": "code",
   "execution_count": 4,
   "metadata": {},
   "outputs": [
    {
     "name": "stderr",
     "output_type": "stream",
     "text": [
      "Using TensorFlow backend.\n"
     ]
    }
   ],
   "source": [
    "from keras.models import Sequential\n",
    "from keras.layers import Dense, Conv2D, Flatten, MaxPool2D\n",
    "from keras.preprocessing import image\n",
    "from keras.preprocessing.image import ImageDataGenerator\n",
    "import matplotlib \n",
    "import matplotlib.pyplot as plt\n",
    "import os, glob\n",
    "import numpy as np\n",
    "import pandas as pd\n",
    "from keras.models import model_from_yaml"
   ]
  },
  {
   "cell_type": "markdown",
   "metadata": {},
   "source": [
    "# 1. Data Processing:"
   ]
  },
  {
   "cell_type": "markdown",
   "metadata": {},
   "source": [
    "**a) Using the \"ImageDataGenerator()\" class from keras.processing.image to build out an instance called \"train_datagen\" with the following parameters:** \n",
    "\n",
    "rescale = 1./255<br>shear_range = 0.2<br>zoom_range = 0.2<br>horizontal_flip = True"
   ]
  },
  {
   "cell_type": "code",
   "execution_count": 5,
   "metadata": {},
   "outputs": [],
   "source": [
    "train_datagen = ImageDataGenerator(rescale = 1./255, shear_range = 0.2, zoom_range = 0.2, horizontal_flip = True)"
   ]
  },
  {
   "cell_type": "markdown",
   "metadata": {},
   "source": [
    "**b) building  training set by using the method \".flow_from_directory()\"**\n",
    "\n",
    "path (where training data is stored)<br>target_size = (64, 64)<br>batch_size = 32<br>class_mode = categorical "
   ]
  },
  {
   "cell_type": "code",
   "execution_count": 6,
   "metadata": {},
   "outputs": [
    {
     "name": "stdout",
     "output_type": "stream",
     "text": [
      "Found 88 images belonging to 4 classes.\n"
     ]
    }
   ],
   "source": [
    "train_generator = train_datagen.flow_from_directory('dataset_train', target_size = (64, 64), batch_size = 32, class_mode = 'categorical')"
   ]
  },
  {
   "cell_type": "markdown",
   "metadata": {},
   "source": [
    "**c) Examining the training set:** \n",
    "\n"
   ]
  },
  {
   "cell_type": "code",
   "execution_count": 7,
   "metadata": {},
   "outputs": [
    {
     "data": {
      "image/png": "[encoded data removed]",
      "text/plain": [
       "<Figure size 432x288 with 1 Axes>"
      ]
     },
     "metadata": {},
     "output_type": "display_data"
    }
   ],
   "source": [
    "X_train, y_train = train_generator.next()\n",
    "for i in range(0,1):\n",
    "    images = X_train[i]\n",
    "    plt.imshow(images)\n",
    "    plt.show()"
   ]
  },
  {
   "cell_type": "code",
   "execution_count": 8,
   "metadata": {},
   "outputs": [
    {
     "name": "stdout",
     "output_type": "stream",
     "text": [
      "Image shape of each training observation is : (64, 64, 3)\n",
      "We need to predict on 4 classes \n"
     ]
    }
   ],
   "source": [
    "print(\"Image shape of each training observation is :\" , images.shape)\n",
    "print(\"We need to predict on\", len(y_train[0]) ,\"classes \" )"
   ]
  },
  {
   "cell_type": "markdown",
   "metadata": {},
   "source": [
    "## 2. Initial Classifier Build: "
   ]
  },
  {
   "cell_type": "markdown",
   "metadata": {},
   "source": [
    "**Creating an instance of Sequential called \"classifier\"**"
   ]
  },
  {
   "cell_type": "code",
   "execution_count": 9,
   "metadata": {},
   "outputs": [],
   "source": [
    "classifier = Sequential()"
   ]
  },
  {
   "cell_type": "markdown",
   "metadata": {},
   "source": [
    "**Add a Conv2D layer with the following parameters:** \n",
    "\n",
    "filters = 32<br>kernel_size = (3,3)<br>input_shape = image shape found in part 1<br>activation = relu"
   ]
  },
  {
   "cell_type": "code",
   "execution_count": 10,
   "metadata": {},
   "outputs": [],
   "source": [
    "classifier.add(Conv2D(32, kernel_size=(3,3), activation= 'relu', input_shape= (64, 64, 3)))"
   ]
  },
  {
   "cell_type": "markdown",
   "metadata": {},
   "source": [
    "**Add a MaxPooling2D layer where pool_size = (2,2)**"
   ]
  },
  {
   "cell_type": "code",
   "execution_count": 11,
   "metadata": {},
   "outputs": [],
   "source": [
    "classifier.add(MaxPool2D(2,2))"
   ]
  },
  {
   "cell_type": "markdown",
   "metadata": {},
   "source": [
    "**Add another Conv2D layer:** \n",
    "\n",
    "filters = 64<br>kernel_size = (3,3)<br>activation = relu"
   ]
  },
  {
   "cell_type": "code",
   "execution_count": 12,
   "metadata": {},
   "outputs": [],
   "source": [
    "classifier.add(Conv2D(64, kernel_size=(3,3), activation= 'relu'))"
   ]
  },
  {
   "cell_type": "markdown",
   "metadata": {},
   "source": [
    "**Add a MaxPooling2D layer where pool_size = (2,2)**"
   ]
  },
  {
   "cell_type": "code",
   "execution_count": 13,
   "metadata": {},
   "outputs": [],
   "source": [
    "classifier.add(MaxPool2D(2,2))"
   ]
  },
  {
   "cell_type": "markdown",
   "metadata": {},
   "source": [
    "**Add a Flatten layer**"
   ]
  },
  {
   "cell_type": "code",
   "execution_count": 14,
   "metadata": {},
   "outputs": [],
   "source": [
    "classifier.add(Flatten())"
   ]
  },
  {
   "cell_type": "markdown",
   "metadata": {},
   "source": [
    "**Add a Dense layer**\n",
    "\n",
    "units = 128<br>activation = relu"
   ]
  },
  {
   "cell_type": "code",
   "execution_count": 15,
   "metadata": {},
   "outputs": [],
   "source": [
    "classifier.add(Dense(128, activation= 'relu'))"
   ]
  },
  {
   "cell_type": "markdown",
   "metadata": {},
   "source": [
    "**Add a final Dense layer (this will output our probabilities):**\n",
    "    \n",
    "units = # of classes<br>activation = softmax "
   ]
  },
  {
   "cell_type": "code",
   "execution_count": 16,
   "metadata": {},
   "outputs": [],
   "source": [
    "classifier.add(Dense(4, activation= 'softmax'))"
   ]
  },
  {
   "cell_type": "markdown",
   "metadata": {},
   "source": [
    "**Compile with the following: **\n",
    "    \n",
    "optimize = adam<br>loss = categorical cross entropy<br>metric = accuracy"
   ]
  },
  {
   "cell_type": "code",
   "execution_count": 17,
   "metadata": {},
   "outputs": [],
   "source": [
    "classifier.compile(optimizer = 'adam', loss = 'categorical_crossentropy', metrics = ['accuracy'])"
   ]
  },
  {
   "cell_type": "markdown",
   "metadata": {},
   "source": [
    "## 3. Model Runs:\n"
   ]
  },
  {
   "cell_type": "markdown",
   "metadata": {},
   "source": [
    "**a) Using .fit_generator() with the training set. For the first run, using the following parameters:** \n",
    "\n",
    "steps_per_epoch = 10<br>epochs = 10"
   ]
  },
  {
   "cell_type": "code",
   "execution_count": 18,
   "metadata": {},
   "outputs": [
    {
     "name": "stdout",
     "output_type": "stream",
     "text": [
      "Epoch 1/10\n",
      "10/10 [==============================] - 5s 473ms/step - loss: 1.0607 - accuracy: 0.6284\n",
      "Epoch 2/10\n",
      "10/10 [==============================] - 5s 453ms/step - loss: 0.1968 - accuracy: 0.9595\n",
      "Epoch 3/10\n",
      "10/10 [==============================] - 5s 515ms/step - loss: 0.1280 - accuracy: 0.9653\n",
      "Epoch 4/10\n",
      "10/10 [==============================] - 5s 493ms/step - loss: 0.0301 - accuracy: 1.0000\n",
      "Epoch 5/10\n",
      "10/10 [==============================] - 5s 541ms/step - loss: 0.0103 - accuracy: 1.0000\n",
      "Epoch 6/10\n",
      "10/10 [==============================] - 5s 463ms/step - loss: 0.0177 - accuracy: 0.9899\n",
      "Epoch 7/10\n",
      "10/10 [==============================] - 6s 634ms/step - loss: 0.0049 - accuracy: 1.0000\n",
      "Epoch 8/10\n",
      "10/10 [==============================] - 5s 541ms/step - loss: 0.0049 - accuracy: 1.0000\n",
      "Epoch 9/10\n",
      "10/10 [==============================] - 5s 454ms/step - loss: 0.0038 - accuracy: 1.0000\n",
      "Epoch 10/10\n",
      "10/10 [==============================] - 5s 475ms/step - loss: 0.0069 - accuracy: 0.9966\n"
     ]
    },
    {
     "data": {
      "text/plain": [
       "<keras.callbacks.callbacks.History at 0x1cff0128b38>"
      ]
     },
     "execution_count": 18,
     "metadata": {},
     "output_type": "execute_result"
    }
   ],
   "source": [
    "classifier.fit_generator(train_generator, steps_per_epoch = 10, epochs = 10)"
   ]
  },
  {
   "cell_type": "markdown",
   "metadata": {},
   "source": [
    "**b) Writing out each model & model_weights to a file.**"
   ]
  },
  {
   "cell_type": "code",
   "execution_count": 19,
   "metadata": {},
   "outputs": [
    {
     "name": "stdout",
     "output_type": "stream",
     "text": [
      "Saved model to disk\n"
     ]
    }
   ],
   "source": [
    "# write model and model weights to disk\n",
    "\n",
    "model_yaml = classifier.to_yaml()\n",
    "with open(\"model_1.yaml\", \"w\") as yaml_file:\n",
    "    yaml_file.write(model_yaml)\n",
    "classifier.save_weights(\"model_1.h5\")\n",
    "print(\"Saved model to disk\")"
   ]
  },
  {
   "cell_type": "markdown",
   "metadata": {},
   "source": [
    "**c) Predicting using the model built in step 2.**"
   ]
  },
  {
   "cell_type": "code",
   "execution_count": 20,
   "metadata": {},
   "outputs": [
    {
     "name": "stdout",
     "output_type": "stream",
     "text": [
      "Loaded model from disk\n"
     ]
    }
   ],
   "source": [
    "# load model from disk\n",
    "yaml_file = open('model_1.yaml', 'r')\n",
    "loaded_model_yaml = yaml_file.read()\n",
    "yaml_file.close()\n",
    "model = model_from_yaml(loaded_model_yaml)\n",
    "# load weights into new model\n",
    "model.load_weights(\"model_1.h5\")\n",
    "print(\"Loaded model from disk\")\n",
    "# test data path\n",
    "img_dir = \"dataset_test\" # Enter Directory of all images\n",
    "# iterate over each test image\n",
    "# make a prediction and add to results \n",
    "data_path = os.path.join(img_dir, '*g')\n",
    "files = glob.glob(data_path)\n",
    "data = []\n",
    "results = []\n",
    "for f1 in files:\n",
    "    img = image.load_img(f1, target_size = (64, 64))\n",
    "    img = image.img_to_array(img)\n",
    "    img = np.expand_dims(img, axis = 0)\n",
    "    data.append(img)\n",
    "    result = model.predict(img)\n",
    "    r = np.argmax(result, axis=1)\n",
    "    results.append(r)\n",
    " "
   ]
  },
  {
   "cell_type": "code",
   "execution_count": 74,
   "metadata": {},
   "outputs": [
    {
     "data": {
      "text/plain": [
       "[array([0], dtype=int64),\n",
       " array([0], dtype=int64),\n",
       " array([1], dtype=int64),\n",
       " array([2], dtype=int64),\n",
       " array([1], dtype=int64),\n",
       " array([1], dtype=int64),\n",
       " array([1], dtype=int64),\n",
       " array([3], dtype=int64)]"
      ]
     },
     "execution_count": 74,
     "metadata": {},
     "output_type": "execute_result"
    }
   ],
   "source": [
    "results"
   ]
  },
  {
   "cell_type": "markdown",
   "metadata": {},
   "source": [
    "**d) Determine accuracy.**"
   ]
  },
  {
   "cell_type": "code",
   "execution_count": 23,
   "metadata": {},
   "outputs": [
    {
     "data": {
      "text/plain": [
       "{'category 1': 0, 'category 2': 1, 'category 3': 2, 'category 4': 3}"
      ]
     },
     "execution_count": 23,
     "metadata": {},
     "output_type": "execute_result"
    }
   ],
   "source": [
    "# check category labels\n",
    "train_generator.class_indices"
   ]
  },
  {
   "cell_type": "code",
   "execution_count": 24,
   "metadata": {},
   "outputs": [],
   "source": [
    "actual_labels = [0, 0, 2, 2, 1, 1, 3, 3] "
   ]
  },
  {
   "cell_type": "code",
   "execution_count": 25,
   "metadata": {},
   "outputs": [],
   "source": [
    "#create function to check accuracy\n",
    "\n",
    "def check_acc(x):\n",
    "    count = 0\n",
    "    for r in range(len(x)):\n",
    "        if x[r]==actual_labels[r]:\n",
    "            count = count + 1\n",
    "    return count/8"
   ]
  },
  {
   "cell_type": "code",
   "execution_count": 26,
   "metadata": {},
   "outputs": [
    {
     "data": {
      "text/plain": [
       "0.75"
      ]
     },
     "execution_count": 26,
     "metadata": {},
     "output_type": "execute_result"
    }
   ],
   "source": [
    "check_acc(results)"
   ]
  },
  {
   "cell_type": "code",
   "execution_count": 27,
   "metadata": {},
   "outputs": [],
   "source": [
    "# create function to write model and model weights to disk\n",
    "\n",
    "def saveclassifier(classifier):\n",
    "    model_yaml = classifier.to_yaml()\n",
    "    with open(\"model_1.yaml\", \"w\") as yaml_file:\n",
    "        yaml_file.write(model_yaml)\n",
    "    classifier.save_weights(\"model_1.h5\")\n",
    "    print(\"Saved model to disk\")"
   ]
  },
  {
   "cell_type": "code",
   "execution_count": 28,
   "metadata": {},
   "outputs": [],
   "source": [
    "# create function to get predictions\n",
    "\n",
    "def getpreds(model):\n",
    "    yaml_file = open('model_1.yaml', 'r')\n",
    "    loaded_model_yaml = yaml_file.read()\n",
    "    yaml_file.close()\n",
    "    model = model_from_yaml(loaded_model_yaml)\n",
    "    # load weights into new model\n",
    "    model.load_weights(\"model_1.h5\")\n",
    "    print(\"Loaded model from disk\")\n",
    "    # test data path\n",
    "    img_dir = \"dataset_test\" # Enter Directory of all images\n",
    "    # iterate over each test image\n",
    "    # make a prediction and add to results \n",
    "    data_path = os.path.join(img_dir, '*g')\n",
    "    files = glob.glob(data_path)\n",
    "    data = []\n",
    "    results = []\n",
    "    for f1 in files:\n",
    "        img = image.load_img(f1, target_size = (64, 64))\n",
    "        img = image.img_to_array(img)\n",
    "        img = np.expand_dims(img, axis = 0)\n",
    "        data.append(img)\n",
    "        result = model.predict(img)\n",
    "        r = np.argmax(result, axis=1)\n",
    "        results.append(r)\n",
    "    return check_acc(results)"
   ]
  },
  {
   "cell_type": "code",
   "execution_count": 29,
   "metadata": {},
   "outputs": [
    {
     "name": "stdout",
     "output_type": "stream",
     "text": [
      "Loaded model from disk\n"
     ]
    },
    {
     "data": {
      "text/plain": [
       "0.75"
      ]
     },
     "execution_count": 29,
     "metadata": {},
     "output_type": "execute_result"
    }
   ],
   "source": [
    "getpreds(model)"
   ]
  },
  {
   "cell_type": "markdown",
   "metadata": {},
   "source": [
    "**e) Running this process for the following combinations:**\n",
    "\n",
    "(steps_per_epoch: 10, epochs: 10) <- the one we just did \n",
    "\n",
    "(steps_per_epoch: 10, epochs: 20)\n",
    "\n",
    "(steps_per_epoch: 10, epochs: 30)\n",
    "\n",
    "(steps_per_epoch: 30, epochs: 10)\n",
    "\n",
    "(steps_per_epoch: 30, epochs: 20)\n",
    "\n",
    "(steps_per_epoch: 30, epochs: 30)\n",
    "\n",
    "(steps_per_epoch: 50, epochs: 10)\n",
    "\n",
    "(steps_per_epoch: 50, epochs: 20)\n",
    "\n",
    "(steps_per_epoch: 50, epochs: 30)\n",
    "\n",
    "(steps_per_epoch: 50, epochs: 100) \n"
   ]
  },
  {
   "cell_type": "code",
   "execution_count": 30,
   "metadata": {},
   "outputs": [],
   "source": [
    "epochs = [10,20,30]\n",
    "steps = [10,30,50]\n",
    "\n",
    "df = pd.DataFrame(columns = [\"steps\", \"epochs\", \"Accuracy\"])"
   ]
  },
  {
   "cell_type": "code",
   "execution_count": 31,
   "metadata": {
    "scrolled": true
   },
   "outputs": [
    {
     "name": "stdout",
     "output_type": "stream",
     "text": [
      "Epoch 1/10\n",
      "10/10 [==============================] - 4s 441ms/step - loss: 0.0064 - accuracy: 0.9966\n",
      "Epoch 2/10\n",
      "10/10 [==============================] - 4s 434ms/step - loss: 0.0253 - accuracy: 0.9965\n",
      "Epoch 3/10\n",
      "10/10 [==============================] - 4s 441ms/step - loss: 0.0051 - accuracy: 1.0000\n",
      "Epoch 4/10\n",
      "10/10 [==============================] - 4s 436ms/step - loss: 0.0019 - accuracy: 1.0000\n",
      "Epoch 5/10\n",
      "10/10 [==============================] - 5s 452ms/step - loss: 0.0023 - accuracy: 1.0000\n",
      "Epoch 6/10\n",
      "10/10 [==============================] - 4s 430ms/step - loss: 9.7912e-04 - accuracy: 1.0000\n",
      "Epoch 7/10\n",
      "10/10 [==============================] - 4s 449ms/step - loss: 8.2278e-04 - accuracy: 1.0000\n",
      "Epoch 8/10\n",
      "10/10 [==============================] - 4s 440ms/step - loss: 5.2475e-04 - accuracy: 1.0000\n",
      "Epoch 9/10\n",
      "10/10 [==============================] - 4s 432ms/step - loss: 2.7145e-04 - accuracy: 1.0000\n",
      "Epoch 10/10\n",
      "10/10 [==============================] - 4s 448ms/step - loss: 0.0025 - accuracy: 1.0000\n",
      "Saved model to disk\n",
      "Loaded model from disk\n",
      "Epoch 1/10\n",
      "30/30 [==============================] - 14s 474ms/step - loss: 4.5887e-04 - accuracy: 1.0000\n",
      "Epoch 2/10\n",
      "30/30 [==============================] - 14s 475ms/step - loss: 2.3329e-04 - accuracy: 1.0000\n",
      "Epoch 3/10\n",
      "30/30 [==============================] - 14s 472ms/step - loss: 1.6875e-04 - accuracy: 1.0000\n",
      "Epoch 4/10\n",
      "30/30 [==============================] - 14s 470ms/step - loss: 1.0222e-04 - accuracy: 1.0000\n",
      "Epoch 5/10\n",
      "30/30 [==============================] - 15s 487ms/step - loss: 1.0318e-04 - accuracy: 1.0000\n",
      "Epoch 6/10\n",
      "30/30 [==============================] - 14s 483ms/step - loss: 8.3439e-05 - accuracy: 1.0000\n",
      "Epoch 7/10\n",
      "30/30 [==============================] - 15s 489ms/step - loss: 1.6728e-04 - accuracy: 1.0000\n",
      "Epoch 8/10\n",
      "30/30 [==============================] - 14s 483ms/step - loss: 6.9092e-05 - accuracy: 1.0000\n",
      "Epoch 9/10\n",
      "30/30 [==============================] - 15s 487ms/step - loss: 5.1789e-05 - accuracy: 1.0000\n",
      "Epoch 10/10\n",
      "30/30 [==============================] - 15s 491ms/step - loss: 9.4631e-05 - accuracy: 1.0000\n",
      "Saved model to disk\n",
      "Loaded model from disk\n",
      "Epoch 1/10\n",
      "50/50 [==============================] - 25s 494ms/step - loss: 5.8555e-05 - accuracy: 1.0000\n",
      "Epoch 2/10\n",
      "50/50 [==============================] - 18s 352ms/step - loss: 4.6564e-05 - accuracy: 1.0000\n",
      "Epoch 3/10\n",
      "50/50 [==============================] - 16s 319ms/step - loss: 1.8499e-05 - accuracy: 1.0000\n",
      "Epoch 4/10\n",
      "50/50 [==============================] - 16s 328ms/step - loss: 1.9822e-05 - accuracy: 1.0000\n",
      "Epoch 5/10\n",
      "50/50 [==============================] - 17s 341ms/step - loss: 2.1718e-05 - accuracy: 1.0000\n",
      "Epoch 6/10\n",
      "50/50 [==============================] - 16s 323ms/step - loss: 1.9645e-05 - accuracy: 1.0000\n",
      "Epoch 7/10\n",
      "50/50 [==============================] - 16s 325ms/step - loss: 1.6963e-05 - accuracy: 1.0000\n",
      "Epoch 8/10\n",
      "50/50 [==============================] - 17s 340ms/step - loss: 2.0688e-05 - accuracy: 1.0000\n",
      "Epoch 9/10\n",
      "50/50 [==============================] - 16s 329ms/step - loss: 1.5562e-05 - accuracy: 1.0000\n",
      "Epoch 10/10\n",
      "50/50 [==============================] - 18s 358ms/step - loss: 1.4975e-05 - accuracy: 1.0000\n",
      "Saved model to disk\n",
      "Loaded model from disk\n",
      "Epoch 1/20\n",
      "10/10 [==============================] - 3s 317ms/step - loss: 1.5751e-05 - accuracy: 1.0000\n",
      "Epoch 2/20\n",
      "10/10 [==============================] - 3s 348ms/step - loss: 1.0965e-05 - accuracy: 1.0000\n",
      "Epoch 3/20\n",
      "10/10 [==============================] - 3s 324ms/step - loss: 7.1224e-06 - accuracy: 1.0000\n",
      "Epoch 4/20\n",
      "10/10 [==============================] - 3s 343ms/step - loss: 1.0057e-05 - accuracy: 1.0000\n",
      "Epoch 5/20\n",
      "10/10 [==============================] - 3s 324ms/step - loss: 1.4501e-05 - accuracy: 1.0000\n",
      "Epoch 6/20\n",
      "10/10 [==============================] - 3s 323ms/step - loss: 1.6006e-05 - accuracy: 1.0000\n",
      "Epoch 7/20\n",
      "10/10 [==============================] - 3s 329ms/step - loss: 7.4283e-06 - accuracy: 1.0000\n",
      "Epoch 8/20\n",
      "10/10 [==============================] - 4s 367ms/step - loss: 5.7510e-06 - accuracy: 1.0000\n",
      "Epoch 9/20\n",
      "10/10 [==============================] - 3s 326ms/step - loss: 1.0971e-05 - accuracy: 1.0000\n",
      "Epoch 10/20\n",
      "10/10 [==============================] - 3s 347ms/step - loss: 1.9495e-05 - accuracy: 1.0000\n",
      "Epoch 11/20\n",
      "10/10 [==============================] - 3s 321ms/step - loss: 9.0880e-06 - accuracy: 1.0000\n",
      "Epoch 12/20\n",
      "10/10 [==============================] - 3s 339ms/step - loss: 1.1270e-05 - accuracy: 1.0000\n",
      "Epoch 13/20\n",
      "10/10 [==============================] - 4s 351ms/step - loss: 6.2471e-06 - accuracy: 1.0000\n",
      "Epoch 14/20\n",
      "10/10 [==============================] - 3s 318ms/step - loss: 9.2820e-06 - accuracy: 1.0000\n",
      "Epoch 15/20\n",
      "10/10 [==============================] - 4s 351ms/step - loss: 1.4008e-05 - accuracy: 1.0000\n",
      "Epoch 16/20\n",
      "10/10 [==============================] - 3s 340ms/step - loss: 1.4874e-05 - accuracy: 1.0000\n",
      "Epoch 17/20\n",
      "10/10 [==============================] - 4s 366ms/step - loss: 4.6539e-06 - accuracy: 1.0000\n",
      "Epoch 18/20\n",
      "10/10 [==============================] - 4s 375ms/step - loss: 3.4313e-05 - accuracy: 1.0000\n",
      "Epoch 19/20\n",
      "10/10 [==============================] - 3s 319ms/step - loss: 4.9519e-06 - accuracy: 1.0000\n",
      "Epoch 20/20\n",
      "10/10 [==============================] - 3s 334ms/step - loss: 1.1824e-05 - accuracy: 1.0000\n",
      "Saved model to disk\n",
      "Loaded model from disk\n",
      "Epoch 1/20\n",
      "30/30 [==============================] - 9s 315ms/step - loss: 6.9507e-06 - accuracy: 1.0000\n",
      "Epoch 2/20\n",
      "30/30 [==============================] - 12s 394ms/step - loss: 2.1775e-05 - accuracy: 1.0000\n",
      "Epoch 3/20\n",
      "30/30 [==============================] - 13s 433ms/step - loss: 4.7986e-06 - accuracy: 1.0000\n",
      "Epoch 4/20\n",
      "30/30 [==============================] - 15s 497ms/step - loss: 1.3777e-05 - accuracy: 1.0000\n",
      "Epoch 5/20\n",
      "30/30 [==============================] - 17s 577ms/step - loss: 5.2072e-05 - accuracy: 1.0000\n",
      "Epoch 6/20\n",
      "30/30 [==============================] - 15s 489ms/step - loss: 4.8206e-05 - accuracy: 1.0000\n",
      "Epoch 7/20\n",
      "30/30 [==============================] - 11s 370ms/step - loss: 7.9170e-06 - accuracy: 1.0000\n",
      "Epoch 8/20\n",
      "30/30 [==============================] - 15s 503ms/step - loss: 1.5258e-04 - accuracy: 1.0000\n",
      "Epoch 9/20\n",
      "30/30 [==============================] - 14s 473ms/step - loss: 1.3728e-04 - accuracy: 1.0000\n",
      "Epoch 10/20\n",
      "30/30 [==============================] - 15s 510ms/step - loss: 4.9587e-05 - accuracy: 1.0000\n",
      "Epoch 11/20\n",
      "30/30 [==============================] - 15s 516ms/step - loss: 1.3023e-05 - accuracy: 1.0000\n",
      "Epoch 12/20\n",
      "30/30 [==============================] - 14s 450ms/step - loss: 5.7266e-06 - accuracy: 1.0000\n",
      "Epoch 13/20\n",
      "30/30 [==============================] - 14s 450ms/step - loss: 7.2619e-06 - accuracy: 1.0000\n",
      "Epoch 14/20\n",
      "30/30 [==============================] - 14s 454ms/step - loss: 9.1272e-06 - accuracy: 1.0000\n",
      "Epoch 15/20\n",
      "30/30 [==============================] - 14s 457ms/step - loss: 3.1726e-06 - accuracy: 1.0000\n",
      "Epoch 16/20\n",
      "30/30 [==============================] - 15s 511ms/step - loss: 3.5496e-06 - accuracy: 1.0000\n",
      "Epoch 17/20\n",
      "30/30 [==============================] - 14s 482ms/step - loss: 3.6095e-06 - accuracy: 1.0000\n",
      "Epoch 18/20\n",
      "30/30 [==============================] - 15s 509ms/step - loss: 5.3741e-06 - accuracy: 1.0000\n",
      "Epoch 19/20\n",
      "30/30 [==============================] - 17s 552ms/step - loss: 2.8000e-06 - accuracy: 1.0000\n",
      "Epoch 20/20\n",
      "30/30 [==============================] - 16s 535ms/step - loss: 3.8634e-06 - accuracy: 1.0000\n",
      "Saved model to disk\n",
      "Loaded model from disk\n",
      "Epoch 1/20\n",
      "50/50 [==============================] - 28s 552ms/step - loss: 4.0595e-06 - accuracy: 1.0000\n",
      "Epoch 2/20\n",
      "50/50 [==============================] - 28s 560ms/step - loss: 2.5084e-06 - accuracy: 1.0000\n",
      "Epoch 3/20\n",
      "50/50 [==============================] - 28s 566ms/step - loss: 4.4369e-06 - accuracy: 1.0000\n",
      "Epoch 4/20\n",
      "50/50 [==============================] - 26s 527ms/step - loss: 2.3686e-06 - accuracy: 1.0000\n",
      "Epoch 5/20\n",
      "50/50 [==============================] - 27s 546ms/step - loss: 2.2963e-06 - accuracy: 1.0000\n",
      "Epoch 6/20\n",
      "50/50 [==============================] - 23s 456ms/step - loss: 2.1242e-06 - accuracy: 1.0000\n",
      "Epoch 7/20\n",
      "50/50 [==============================] - 23s 457ms/step - loss: 1.8587e-06 - accuracy: 1.0000\n",
      "Epoch 8/20\n",
      "50/50 [==============================] - 23s 457ms/step - loss: 3.1675e-06 - accuracy: 1.0000\n",
      "Epoch 9/20\n",
      "50/50 [==============================] - 22s 449ms/step - loss: 5.5388e-06 - accuracy: 1.0000\n",
      "Epoch 10/20\n",
      "50/50 [==============================] - 23s 458ms/step - loss: 2.0291e-06 - accuracy: 1.0000\n",
      "Epoch 11/20\n",
      "50/50 [==============================] - 23s 459ms/step - loss: 2.1094e-06 - accuracy: 1.0000\n",
      "Epoch 12/20\n",
      "50/50 [==============================] - 23s 457ms/step - loss: 1.7582e-06 - accuracy: 1.0000\n",
      "Epoch 13/20\n",
      "50/50 [==============================] - 23s 453ms/step - loss: 1.3817e-06 - accuracy: 1.0000\n",
      "Epoch 14/20\n",
      "50/50 [==============================] - 23s 456ms/step - loss: 1.5105e-06 - accuracy: 1.0000\n",
      "Epoch 15/20\n",
      "50/50 [==============================] - 23s 454ms/step - loss: 9.8283e-07 - accuracy: 1.0000\n",
      "Epoch 16/20\n",
      "50/50 [==============================] - 24s 480ms/step - loss: 8.2640e-07 - accuracy: 1.0000\n",
      "Epoch 17/20\n",
      "50/50 [==============================] - 24s 480ms/step - loss: 1.6057e-06 - accuracy: 1.0000\n",
      "Epoch 18/20\n",
      "50/50 [==============================] - 27s 532ms/step - loss: 1.3600e-06 - accuracy: 1.0000\n",
      "Epoch 19/20\n",
      "50/50 [==============================] - 26s 517ms/step - loss: 8.5580e-07 - accuracy: 1.0000\n",
      "Epoch 20/20\n",
      "50/50 [==============================] - 24s 484ms/step - loss: 9.7989e-07 - accuracy: 1.0000\n",
      "Saved model to disk\n",
      "Loaded model from disk\n",
      "Epoch 1/30\n",
      "10/10 [==============================] - 5s 489ms/step - loss: 6.7480e-07 - accuracy: 1.0000\n",
      "Epoch 2/30\n",
      "10/10 [==============================] - 5s 470ms/step - loss: 2.2542e-06 - accuracy: 1.0000\n",
      "Epoch 3/30\n",
      "10/10 [==============================] - 5s 480ms/step - loss: 3.5380e-06 - accuracy: 1.0000\n",
      "Epoch 4/30\n",
      "10/10 [==============================] - 5s 467ms/step - loss: 9.7160e-07 - accuracy: 1.0000\n",
      "Epoch 5/30\n",
      "10/10 [==============================] - 5s 485ms/step - loss: 2.2350e-06 - accuracy: 1.0000\n",
      "Epoch 6/30\n",
      "10/10 [==============================] - 5s 531ms/step - loss: 7.6884e-07 - accuracy: 1.0000\n",
      "Epoch 7/30\n",
      "10/10 [==============================] - 5s 526ms/step - loss: 1.4144e-06 - accuracy: 1.0000\n",
      "Epoch 8/30\n",
      "10/10 [==============================] - 5s 474ms/step - loss: 1.0809e-06 - accuracy: 1.0000\n",
      "Epoch 9/30\n",
      "10/10 [==============================] - 5s 487ms/step - loss: 1.0750e-06 - accuracy: 1.0000\n",
      "Epoch 10/30\n",
      "10/10 [==============================] - 4s 447ms/step - loss: 6.0413e-07 - accuracy: 1.0000\n",
      "Epoch 11/30\n",
      "10/10 [==============================] - 5s 466ms/step - loss: 7.2751e-07 - accuracy: 1.0000\n",
      "Epoch 12/30\n",
      "10/10 [==============================] - 5s 455ms/step - loss: 8.6908e-07 - accuracy: 1.0000\n",
      "Epoch 13/30\n",
      "10/10 [==============================] - 5s 462ms/step - loss: 1.3242e-06 - accuracy: 1.0000\n",
      "Epoch 14/30\n",
      "10/10 [==============================] - 5s 460ms/step - loss: 7.0781e-07 - accuracy: 1.0000\n",
      "Epoch 15/30\n",
      "10/10 [==============================] - 4s 444ms/step - loss: 6.1881e-07 - accuracy: 1.0000\n",
      "Epoch 16/30\n",
      "10/10 [==============================] - 5s 463ms/step - loss: 5.1804e-07 - accuracy: 1.0000\n",
      "Epoch 17/30\n",
      "10/10 [==============================] - 5s 475ms/step - loss: 1.4619e-06 - accuracy: 1.0000\n",
      "Epoch 18/30\n",
      "10/10 [==============================] - 4s 449ms/step - loss: 4.2792e-07 - accuracy: 1.0000\n",
      "Epoch 19/30\n",
      "10/10 [==============================] - 5s 462ms/step - loss: 4.1320e-07 - accuracy: 1.0000\n",
      "Epoch 20/30\n",
      "10/10 [==============================] - 4s 440ms/step - loss: 1.4429e-06 - accuracy: 1.0000\n",
      "Epoch 21/30\n",
      "10/10 [==============================] - 4s 448ms/step - loss: 6.5711e-07 - accuracy: 1.0000\n",
      "Epoch 22/30\n",
      "10/10 [==============================] - 5s 463ms/step - loss: 1.2587e-06 - accuracy: 1.0000\n",
      "Epoch 23/30\n",
      "10/10 [==============================] - 5s 452ms/step - loss: 1.7100e-06 - accuracy: 1.0000\n",
      "Epoch 24/30\n",
      "10/10 [==============================] - 5s 495ms/step - loss: 4.2126e-07 - accuracy: 1.0000\n",
      "Epoch 25/30\n",
      "10/10 [==============================] - 4s 444ms/step - loss: 6.2103e-07 - accuracy: 1.0000\n",
      "Epoch 26/30\n",
      "10/10 [==============================] - 5s 459ms/step - loss: 5.1122e-07 - accuracy: 1.0000\n",
      "Epoch 27/30\n",
      "10/10 [==============================] - 5s 457ms/step - loss: 8.4510e-07 - accuracy: 1.0000\n",
      "Epoch 28/30\n",
      "10/10 [==============================] - 5s 455ms/step - loss: 3.3747e-07 - accuracy: 1.0000\n",
      "Epoch 29/30\n",
      "10/10 [==============================] - 4s 446ms/step - loss: 5.7199e-07 - accuracy: 1.0000\n",
      "Epoch 30/30\n",
      "10/10 [==============================] - 5s 463ms/step - loss: 7.3025e-07 - accuracy: 1.0000\n",
      "Saved model to disk\n",
      "Loaded model from disk\n",
      "Epoch 1/30\n",
      "30/30 [==============================] - 14s 462ms/step - loss: 5.5071e-07 - accuracy: 1.0000\n",
      "Epoch 2/30\n",
      "30/30 [==============================] - 14s 454ms/step - loss: 1.4186e-06 - accuracy: 1.0000\n",
      "Epoch 3/30\n",
      "30/30 [==============================] - 14s 454ms/step - loss: 7.0187e-07 - accuracy: 1.0000\n",
      "Epoch 4/30\n",
      "30/30 [==============================] - 14s 455ms/step - loss: 7.1923e-07 - accuracy: 1.0000\n",
      "Epoch 5/30\n",
      "30/30 [==============================] - 14s 457ms/step - loss: 5.0368e-07 - accuracy: 1.0000\n",
      "Epoch 6/30\n",
      "30/30 [==============================] - 14s 460ms/step - loss: 6.9170e-07 - accuracy: 1.0000\n",
      "Epoch 7/30\n",
      "30/30 [==============================] - 14s 456ms/step - loss: 6.6717e-07 - accuracy: 1.0000\n",
      "Epoch 8/30\n",
      "30/30 [==============================] - 17s 565ms/step - loss: 5.3712e-07 - accuracy: 1.0000\n",
      "Epoch 9/30\n",
      "30/30 [==============================] - 15s 515ms/step - loss: 4.7788e-07 - accuracy: 1.0000\n",
      "Epoch 10/30\n",
      "30/30 [==============================] - 14s 460ms/step - loss: 3.4499e-07 - accuracy: 1.0000\n",
      "Epoch 11/30\n",
      "30/30 [==============================] - 14s 454ms/step - loss: 7.5841e-07 - accuracy: 1.0000\n",
      "Epoch 12/30\n",
      "30/30 [==============================] - 14s 456ms/step - loss: 5.1011e-07 - accuracy: 1.0000\n",
      "Epoch 13/30\n",
      "30/30 [==============================] - 14s 452ms/step - loss: 6.3627e-07 - accuracy: 1.0000\n",
      "Epoch 14/30\n",
      "30/30 [==============================] - 14s 456ms/step - loss: 4.4632e-07 - accuracy: 1.0000\n",
      "Epoch 15/30\n",
      "30/30 [==============================] - 14s 458ms/step - loss: 7.3703e-07 - accuracy: 1.0000\n",
      "Epoch 16/30\n",
      "30/30 [==============================] - 14s 479ms/step - loss: 4.1962e-07 - accuracy: 1.0000\n",
      "Epoch 17/30\n",
      "30/30 [==============================] - 16s 544ms/step - loss: 7.7208e-07 - accuracy: 1.0000\n",
      "Epoch 18/30\n",
      "30/30 [==============================] - 16s 524ms/step - loss: 3.4839e-07 - accuracy: 1.0000\n",
      "Epoch 19/30\n",
      "30/30 [==============================] - 14s 480ms/step - loss: 5.3319e-07 - accuracy: 1.0000\n",
      "Epoch 20/30\n",
      "30/30 [==============================] - 14s 483ms/step - loss: 4.8599e-07 - accuracy: 1.0000\n",
      "Epoch 21/30\n",
      "30/30 [==============================] - 16s 539ms/step - loss: 6.1127e-07 - accuracy: 1.0000\n",
      "Epoch 22/30\n",
      "30/30 [==============================] - 19s 631ms/step - loss: 3.6338e-07 - accuracy: 1.0000\n",
      "Epoch 23/30\n",
      "30/30 [==============================] - 17s 578ms/step - loss: 4.4430e-07 - accuracy: 1.0000\n",
      "Epoch 24/30\n",
      "30/30 [==============================] - 15s 506ms/step - loss: 4.1605e-07 - accuracy: 1.0000\n",
      "Epoch 25/30\n",
      "30/30 [==============================] - 17s 559ms/step - loss: 4.8684e-07 - accuracy: 1.0000\n",
      "Epoch 26/30\n",
      "30/30 [==============================] - 16s 545ms/step - loss: 2.9469e-07 - accuracy: 1.0000\n",
      "Epoch 27/30\n",
      "30/30 [==============================] - 20s 683ms/step - loss: 3.6505e-07 - accuracy: 1.0000\n",
      "Epoch 28/30\n",
      "30/30 [==============================] - 20s 665ms/step - loss: 4.0204e-07 - accuracy: 1.0000\n",
      "Epoch 29/30\n",
      "30/30 [==============================] - 20s 660ms/step - loss: 4.2646e-07 - accuracy: 1.0000\n",
      "Epoch 30/30\n",
      "30/30 [==============================] - 16s 544ms/step - loss: 3.3201e-07 - accuracy: 1.0000\n",
      "Saved model to disk\n",
      "Loaded model from disk\n",
      "Epoch 1/30\n",
      "50/50 [==============================] - 28s 561ms/step - loss: 3.5205e-07 - accuracy: 1.0000\n",
      "Epoch 2/30\n",
      "50/50 [==============================] - 24s 481ms/step - loss: 4.0698e-07 - accuracy: 1.0000\n",
      "Epoch 3/30\n"
     ]
    },
    {
     "name": "stdout",
     "output_type": "stream",
     "text": [
      "50/50 [==============================] - 24s 471ms/step - loss: 2.6938e-07 - accuracy: 1.0000\n",
      "Epoch 4/30\n",
      "50/50 [==============================] - 25s 495ms/step - loss: 2.9430e-07 - accuracy: 1.0000\n",
      "Epoch 5/30\n",
      "50/50 [==============================] - 25s 498ms/step - loss: 3.1600e-07 - accuracy: 1.0000\n",
      "Epoch 6/30\n",
      "50/50 [==============================] - 24s 488ms/step - loss: 2.3626e-07 - accuracy: 1.0000\n",
      "Epoch 7/30\n",
      "50/50 [==============================] - 25s 498ms/step - loss: 2.7587e-07 - accuracy: 1.0000\n",
      "Epoch 8/30\n",
      "50/50 [==============================] - 25s 500ms/step - loss: 3.2406e-07 - accuracy: 1.0000\n",
      "Epoch 9/30\n",
      "50/50 [==============================] - 26s 511ms/step - loss: 2.2447e-07 - accuracy: 1.0000\n",
      "Epoch 10/30\n",
      "50/50 [==============================] - 26s 517ms/step - loss: 2.6540e-07 - accuracy: 1.0000\n",
      "Epoch 11/30\n",
      "50/50 [==============================] - 25s 500ms/step - loss: 1.9999e-07 - accuracy: 1.0000\n",
      "Epoch 12/30\n",
      "50/50 [==============================] - 25s 507ms/step - loss: 2.0181e-07 - accuracy: 1.0000\n",
      "Epoch 13/30\n",
      "50/50 [==============================] - 23s 463ms/step - loss: 2.0190e-07 - accuracy: 1.0000\n",
      "Epoch 14/30\n",
      "50/50 [==============================] - 23s 452ms/step - loss: 2.5187e-07 - accuracy: 1.0000\n",
      "Epoch 15/30\n",
      "50/50 [==============================] - 25s 492ms/step - loss: 2.2359e-07 - accuracy: 1.0000\n",
      "Epoch 16/30\n",
      "50/50 [==============================] - 25s 507ms/step - loss: 1.2445e-07 - accuracy: 1.0000\n",
      "Epoch 17/30\n",
      "50/50 [==============================] - 27s 531ms/step - loss: 1.4177e-07 - accuracy: 1.0000\n",
      "Epoch 18/30\n",
      "50/50 [==============================] - 24s 488ms/step - loss: 1.9012e-07 - accuracy: 1.0000\n",
      "Epoch 19/30\n",
      "50/50 [==============================] - 27s 547ms/step - loss: 1.8311e-07 - accuracy: 1.0000\n",
      "Epoch 20/30\n",
      "50/50 [==============================] - 26s 520ms/step - loss: 1.1581e-07 - accuracy: 1.0000\n",
      "Epoch 21/30\n",
      "50/50 [==============================] - 24s 478ms/step - loss: 2.1776e-07 - accuracy: 1.0000\n",
      "Epoch 22/30\n",
      "50/50 [==============================] - 25s 505ms/step - loss: 1.2077e-07 - accuracy: 1.0000\n",
      "Epoch 23/30\n",
      "50/50 [==============================] - 24s 475ms/step - loss: 1.0893e-07 - accuracy: 1.0000\n",
      "Epoch 24/30\n",
      "50/50 [==============================] - 24s 474ms/step - loss: 1.5173e-07 - accuracy: 1.0000\n",
      "Epoch 25/30\n",
      "50/50 [==============================] - 21s 413ms/step - loss: 1.6317e-07 - accuracy: 1.0000\n",
      "Epoch 26/30\n",
      "50/50 [==============================] - 16s 328ms/step - loss: 1.7182e-07 - accuracy: 1.0000\n",
      "Epoch 27/30\n",
      "50/50 [==============================] - 16s 329ms/step - loss: 1.1630e-07 - accuracy: 1.0000\n",
      "Epoch 28/30\n",
      "50/50 [==============================] - 18s 366ms/step - loss: 1.3140e-07 - accuracy: 1.0000\n",
      "Epoch 29/30\n",
      "50/50 [==============================] - 23s 462ms/step - loss: 8.9832e-08 - accuracy: 1.0000\n",
      "Epoch 30/30\n",
      "50/50 [==============================] - 23s 454ms/step - loss: 2.1026e-07 - accuracy: 1.0000\n",
      "Saved model to disk\n",
      "Loaded model from disk\n"
     ]
    }
   ],
   "source": [
    "for e in epochs:\n",
    "    for s in steps:\n",
    "        classifier.fit_generator(train_generator, steps_per_epoch = s, epochs = e)\n",
    "        saveclassifier(classifier)\n",
    "        acc = getpreds(classifier)\n",
    "        df= df.append({\"steps\": s, \"epochs\": e, \"Accuracy\": acc}, ignore_index=True)"
   ]
  },
  {
   "cell_type": "markdown",
   "metadata": {},
   "source": [
    "**f) Creating a final dataframe that combines the accuracy across each combination.**"
   ]
  },
  {
   "cell_type": "code",
   "execution_count": 32,
   "metadata": {},
   "outputs": [
    {
     "data": {
      "text/html": [
       "<div>\n",
       "<style scoped>\n",
       "    .dataframe tbody tr th:only-of-type {\n",
       "        vertical-align: middle;\n",
       "    }\n",
       "\n",
       "    .dataframe tbody tr th {\n",
       "        vertical-align: top;\n",
       "    }\n",
       "\n",
       "    .dataframe thead th {\n",
       "        text-align: right;\n",
       "    }\n",
       "</style>\n",
       "<table border=\"1\" class=\"dataframe\">\n",
       "  <thead>\n",
       "    <tr style=\"text-align: right;\">\n",
       "      <th></th>\n",
       "      <th>steps</th>\n",
       "      <th>epochs</th>\n",
       "      <th>Accuracy</th>\n",
       "    </tr>\n",
       "  </thead>\n",
       "  <tbody>\n",
       "    <tr>\n",
       "      <th>0</th>\n",
       "      <td>10.0</td>\n",
       "      <td>10.0</td>\n",
       "      <td>0.75</td>\n",
       "    </tr>\n",
       "    <tr>\n",
       "      <th>1</th>\n",
       "      <td>30.0</td>\n",
       "      <td>10.0</td>\n",
       "      <td>0.75</td>\n",
       "    </tr>\n",
       "    <tr>\n",
       "      <th>2</th>\n",
       "      <td>50.0</td>\n",
       "      <td>10.0</td>\n",
       "      <td>0.75</td>\n",
       "    </tr>\n",
       "    <tr>\n",
       "      <th>3</th>\n",
       "      <td>10.0</td>\n",
       "      <td>20.0</td>\n",
       "      <td>0.75</td>\n",
       "    </tr>\n",
       "    <tr>\n",
       "      <th>4</th>\n",
       "      <td>30.0</td>\n",
       "      <td>20.0</td>\n",
       "      <td>0.75</td>\n",
       "    </tr>\n",
       "    <tr>\n",
       "      <th>5</th>\n",
       "      <td>50.0</td>\n",
       "      <td>20.0</td>\n",
       "      <td>0.75</td>\n",
       "    </tr>\n",
       "    <tr>\n",
       "      <th>6</th>\n",
       "      <td>10.0</td>\n",
       "      <td>30.0</td>\n",
       "      <td>0.75</td>\n",
       "    </tr>\n",
       "    <tr>\n",
       "      <th>7</th>\n",
       "      <td>30.0</td>\n",
       "      <td>30.0</td>\n",
       "      <td>0.75</td>\n",
       "    </tr>\n",
       "    <tr>\n",
       "      <th>8</th>\n",
       "      <td>50.0</td>\n",
       "      <td>30.0</td>\n",
       "      <td>0.75</td>\n",
       "    </tr>\n",
       "  </tbody>\n",
       "</table>\n",
       "</div>"
      ],
      "text/plain": [
       "   steps  epochs  Accuracy\n",
       "0   10.0    10.0      0.75\n",
       "1   30.0    10.0      0.75\n",
       "2   50.0    10.0      0.75\n",
       "3   10.0    20.0      0.75\n",
       "4   30.0    20.0      0.75\n",
       "5   50.0    20.0      0.75\n",
       "6   10.0    30.0      0.75\n",
       "7   30.0    30.0      0.75\n",
       "8   50.0    30.0      0.75"
      ]
     },
     "execution_count": 32,
     "metadata": {},
     "output_type": "execute_result"
    }
   ],
   "source": [
    "df"
   ]
  },
  {
   "cell_type": "code",
   "execution_count": 76,
   "metadata": {
    "scrolled": true
   },
   "outputs": [
    {
     "name": "stdout",
     "output_type": "stream",
     "text": [
      "Epoch 1/100\n",
      "50/50 [==============================] - 13s 260ms/step - loss: 4.6717e-09 - accuracy: 1.0000\n",
      "Epoch 2/100\n",
      "50/50 [==============================] - 13s 258ms/step - loss: 9.6462e-09 - accuracy: 1.0000\n",
      "Epoch 3/100\n",
      "50/50 [==============================] - 14s 272ms/step - loss: 4.1979e-09 - accuracy: 1.0000\n",
      "Epoch 4/100\n",
      "50/50 [==============================] - 14s 280ms/step - loss: 5.9601e-09 - accuracy: 1.0000\n",
      "Epoch 5/100\n",
      "50/50 [==============================] - 14s 288ms/step - loss: 5.8362e-09 - accuracy: 1.0000\n",
      "Epoch 6/100\n",
      "50/50 [==============================] - 13s 268ms/step - loss: 9.1925e-09 - accuracy: 1.0000\n",
      "Epoch 7/100\n",
      "50/50 [==============================] - 14s 280ms/step - loss: 3.1302e-09 - accuracy: 1.0000\n",
      "Epoch 8/100\n",
      "50/50 [==============================] - 15s 295ms/step - loss: 5.7356e-09 - accuracy: 1.0000\n",
      "Epoch 9/100\n",
      "50/50 [==============================] - 13s 267ms/step - loss: 7.6721e-09 - accuracy: 1.0000\n",
      "Epoch 10/100\n",
      "50/50 [==============================] - 13s 262ms/step - loss: 5.5329e-09 - accuracy: 1.0000\n",
      "Epoch 11/100\n",
      "50/50 [==============================] - 13s 259ms/step - loss: 3.8040e-09 - accuracy: 1.0000\n",
      "Epoch 12/100\n",
      "50/50 [==============================] - 13s 261ms/step - loss: 4.5918e-09 - accuracy: 1.0000\n",
      "Epoch 13/100\n",
      "50/50 [==============================] - 13s 261ms/step - loss: 6.6037e-09 - accuracy: 1.0000\n",
      "Epoch 14/100\n",
      "50/50 [==============================] - 13s 268ms/step - loss: 7.2227e-09 - accuracy: 1.0000\n",
      "Epoch 15/100\n",
      "50/50 [==============================] - 14s 278ms/step - loss: 3.9253e-09 - accuracy: 1.0000\n",
      "Epoch 16/100\n",
      "50/50 [==============================] - 14s 270ms/step - loss: 4.7982e-09 - accuracy: 1.0000\n",
      "Epoch 17/100\n",
      "50/50 [==============================] - 14s 280ms/step - loss: 6.7050e-09 - accuracy: 1.0000\n",
      "Epoch 18/100\n",
      "50/50 [==============================] - 14s 279ms/step - loss: 7.1002e-09 - accuracy: 1.0000\n",
      "Epoch 19/100\n",
      "50/50 [==============================] - 14s 279ms/step - loss: 6.6524e-09 - accuracy: 1.0000\n",
      "Epoch 20/100\n",
      "50/50 [==============================] - 14s 277ms/step - loss: 5.7298e-09 - accuracy: 1.0000\n",
      "Epoch 21/100\n",
      "50/50 [==============================] - 14s 289ms/step - loss: 7.1025e-09 - accuracy: 1.0000\n",
      "Epoch 22/100\n",
      "50/50 [==============================] - 14s 275ms/step - loss: 9.1470e-09 - accuracy: 1.0000\n",
      "Epoch 23/100\n",
      "50/50 [==============================] - 14s 274ms/step - loss: 9.8907e-09 - accuracy: 1.0000\n",
      "Epoch 24/100\n",
      "50/50 [==============================] - 14s 281ms/step - loss: 4.3408e-09 - accuracy: 1.0000\n",
      "Epoch 25/100\n",
      "50/50 [==============================] - 14s 287ms/step - loss: 3.5046e-09 - accuracy: 1.0000\n",
      "Epoch 26/100\n",
      "50/50 [==============================] - 14s 281ms/step - loss: 3.8734e-09 - accuracy: 1.0000\n",
      "Epoch 27/100\n",
      "50/50 [==============================] - 14s 284ms/step - loss: 4.4023e-09 - accuracy: 1.0000\n",
      "Epoch 28/100\n",
      "50/50 [==============================] - 14s 286ms/step - loss: 4.5647e-09 - accuracy: 1.0000\n",
      "Epoch 29/100\n",
      "50/50 [==============================] - 14s 289ms/step - loss: 4.8173e-09 - accuracy: 1.0000\n",
      "Epoch 30/100\n",
      "50/50 [==============================] - 14s 287ms/step - loss: 1.8904e-09 - accuracy: 1.0000\n",
      "Epoch 31/100\n",
      "50/50 [==============================] - 14s 287ms/step - loss: 8.5989e-09 - accuracy: 1.0000\n",
      "Epoch 32/100\n",
      "50/50 [==============================] - 15s 293ms/step - loss: 3.8019e-09 - accuracy: 1.0000\n",
      "Epoch 33/100\n",
      "50/50 [==============================] - 16s 326ms/step - loss: 2.6577e-09 - accuracy: 1.0000\n",
      "Epoch 34/100\n",
      "50/50 [==============================] - 18s 360ms/step - loss: 6.7397e-09 - accuracy: 1.0000\n",
      "Epoch 35/100\n",
      "50/50 [==============================] - 21s 428ms/step - loss: 2.6095e-09 - accuracy: 1.0000\n",
      "Epoch 36/100\n",
      "50/50 [==============================] - 21s 428ms/step - loss: 4.6357e-09 - accuracy: 1.0000\n",
      "Epoch 37/100\n",
      "50/50 [==============================] - 18s 359ms/step - loss: 5.5414e-09 - accuracy: 1.0000\n",
      "Epoch 38/100\n",
      "50/50 [==============================] - 18s 360ms/step - loss: 3.7269e-09 - accuracy: 1.0000\n",
      "Epoch 39/100\n",
      "50/50 [==============================] - 18s 351ms/step - loss: 2.2588e-09 - accuracy: 1.0000\n",
      "Epoch 40/100\n",
      "50/50 [==============================] - 17s 338ms/step - loss: 2.0105e-09 - accuracy: 1.0000\n",
      "Epoch 41/100\n",
      "50/50 [==============================] - 15s 309ms/step - loss: 3.3796e-09 - accuracy: 1.0000\n",
      "Epoch 42/100\n",
      "50/50 [==============================] - 15s 298ms/step - loss: 2.6304e-09 - accuracy: 1.0000\n",
      "Epoch 43/100\n",
      "50/50 [==============================] - 15s 303ms/step - loss: 3.5229e-09 - accuracy: 1.0000\n",
      "Epoch 44/100\n",
      "50/50 [==============================] - 16s 316ms/step - loss: 8.5282e-09 - accuracy: 1.0000\n",
      "Epoch 45/100\n",
      "50/50 [==============================] - 16s 327ms/step - loss: 1.6892e-09 - accuracy: 1.0000\n",
      "Epoch 46/100\n",
      "50/50 [==============================] - 15s 292ms/step - loss: 3.2307e-09 - accuracy: 1.0000\n",
      "Epoch 47/100\n",
      "50/50 [==============================] - 14s 286ms/step - loss: 3.4982e-09 - accuracy: 1.0000\n",
      "Epoch 48/100\n",
      "50/50 [==============================] - 14s 285ms/step - loss: 1.5886e-09 - accuracy: 1.0000\n",
      "Epoch 49/100\n",
      "50/50 [==============================] - 14s 281ms/step - loss: 3.4252e-09 - accuracy: 1.0000\n",
      "Epoch 50/100\n",
      "50/50 [==============================] - 14s 286ms/step - loss: 1.6667e-09 - accuracy: 1.0000\n",
      "Epoch 51/100\n",
      "50/50 [==============================] - 15s 298ms/step - loss: 1.9632e-09 - accuracy: 1.0000\n",
      "Epoch 52/100\n",
      "50/50 [==============================] - 16s 314ms/step - loss: 2.6093e-09 - accuracy: 1.0000\n",
      "Epoch 53/100\n",
      "50/50 [==============================] - 18s 362ms/step - loss: 4.6468e-09 - accuracy: 1.0000\n",
      "Epoch 54/100\n",
      "50/50 [==============================] - 23s 452ms/step - loss: 1.7655e-09 - accuracy: 1.0000\n",
      "Epoch 55/100\n",
      "50/50 [==============================] - 23s 455ms/step - loss: 1.7655e-09 - accuracy: 1.0000\n",
      "Epoch 56/100\n",
      "50/50 [==============================] - 23s 451ms/step - loss: 1.4408e-09 - accuracy: 1.0000\n",
      "Epoch 57/100\n",
      "50/50 [==============================] - 23s 459ms/step - loss: 1.6876e-09 - accuracy: 1.0000\n",
      "Epoch 58/100\n",
      "50/50 [==============================] - 23s 451ms/step - loss: 3.0831e-09 - accuracy: 1.0000\n",
      "Epoch 59/100\n",
      "50/50 [==============================] - 23s 452ms/step - loss: 2.3120e-09 - accuracy: 1.0000\n",
      "Epoch 60/100\n",
      "50/50 [==============================] - 23s 460ms/step - loss: 2.4811e-09 - accuracy: 1.0000\n",
      "Epoch 61/100\n",
      "50/50 [==============================] - 22s 438ms/step - loss: 1.1682e-09 - accuracy: 1.0000\n",
      "Epoch 62/100\n",
      "50/50 [==============================] - 22s 448ms/step - loss: 2.2087e-09 - accuracy: 1.0000\n",
      "Epoch 63/100\n",
      "50/50 [==============================] - 22s 442ms/step - loss: 1.4651e-09 - accuracy: 1.0000\n",
      "Epoch 64/100\n",
      "50/50 [==============================] - 22s 436ms/step - loss: 9.4280e-10 - accuracy: 1.0000\n",
      "Epoch 65/100\n",
      "50/50 [==============================] - 22s 436ms/step - loss: 1.8139e-09 - accuracy: 1.0000\n",
      "Epoch 66/100\n",
      "50/50 [==============================] - 22s 442ms/step - loss: 6.9612e-10 - accuracy: 1.0000\n",
      "Epoch 67/100\n",
      "50/50 [==============================] - 22s 440ms/step - loss: 6.2148e-10 - accuracy: 1.0000\n",
      "Epoch 68/100\n",
      "50/50 [==============================] - 22s 438ms/step - loss: 6.7011e-10 - accuracy: 1.0000\n",
      "Epoch 69/100\n",
      "50/50 [==============================] - 22s 438ms/step - loss: 1.9634e-09 - accuracy: 1.0000\n",
      "Epoch 70/100\n",
      "50/50 [==============================] - 98s 2s/step - loss: 2.9322e-09 - accuracy: 1.0000\n",
      "Epoch 71/100\n",
      "50/50 [==============================] - 21s 429ms/step - loss: 1.2656e-09 - accuracy: 1.0000\n",
      "Epoch 72/100\n",
      "50/50 [==============================] - 20s 397ms/step - loss: 1.1180e-09 - accuracy: 1.0000\n",
      "Epoch 73/100\n",
      "50/50 [==============================] - 20s 401ms/step - loss: 3.9756e-10 - accuracy: 1.0000\n",
      "Epoch 74/100\n",
      "50/50 [==============================] - 20s 406ms/step - loss: 1.8369e-09 - accuracy: 1.0000\n",
      "Epoch 75/100\n",
      "50/50 [==============================] - 20s 405ms/step - loss: 1.5154e-09 - accuracy: 1.0000\n",
      "Epoch 76/100\n",
      "50/50 [==============================] - 20s 396ms/step - loss: 1.8872e-09 - accuracy: 1.0000\n",
      "Epoch 77/100\n",
      "50/50 [==============================] - 20s 400ms/step - loss: 1.8124e-09 - accuracy: 1.0000\n",
      "Epoch 78/100\n",
      "50/50 [==============================] - 20s 396ms/step - loss: 8.2106e-10 - accuracy: 1.0000\n",
      "Epoch 79/100\n",
      "50/50 [==============================] - 20s 406ms/step - loss: 1.2154e-09 - accuracy: 1.0000\n",
      "Epoch 80/100\n",
      "50/50 [==============================] - 20s 409ms/step - loss: 1.4651e-09 - accuracy: 1.0000\n",
      "Epoch 81/100\n",
      "50/50 [==============================] - 20s 410ms/step - loss: 1.4669e-09 - accuracy: 1.0000\n",
      "Epoch 82/100\n",
      "50/50 [==============================] - 20s 409ms/step - loss: 1.5140e-09 - accuracy: 1.0000\n",
      "Epoch 83/100\n",
      "50/50 [==============================] - 21s 417ms/step - loss: 2.6317e-09 - accuracy: 1.0000\n",
      "Epoch 84/100\n",
      "50/50 [==============================] - 21s 422ms/step - loss: 9.9469e-10 - accuracy: 1.0000\n",
      "Epoch 85/100\n",
      "50/50 [==============================] - 21s 422ms/step - loss: 1.2430e-09 - accuracy: 1.0000\n",
      "Epoch 86/100\n",
      "50/50 [==============================] - 21s 429ms/step - loss: 7.4642e-10 - accuracy: 1.0000\n",
      "Epoch 87/100\n",
      "50/50 [==============================] - 22s 438ms/step - loss: 6.2141e-10 - accuracy: 1.0000\n",
      "Epoch 88/100\n",
      "50/50 [==============================] - 22s 442ms/step - loss: 1.3176e-09 - accuracy: 1.0000\n",
      "Epoch 89/100\n",
      "50/50 [==============================] - 22s 441ms/step - loss: 1.0189e-09 - accuracy: 1.0000\n",
      "Epoch 90/100\n",
      "50/50 [==============================] - 687s 14s/step - loss: 7.4482e-10 - accuracy: 1.0000\n",
      "Epoch 91/100\n",
      "50/50 [==============================] - 20s 403ms/step - loss: 6.9453e-10 - accuracy: 1.0000\n",
      "Epoch 92/100\n",
      "50/50 [==============================] - 19s 384ms/step - loss: 2.2390e-10 - accuracy: 1.0000\n",
      "Epoch 93/100\n",
      "50/50 [==============================] - 19s 386ms/step - loss: 2.3123e-09 - accuracy: 1.0000\n",
      "Epoch 94/100\n",
      "50/50 [==============================] - 19s 381ms/step - loss: 7.7068e-10 - accuracy: 1.0000\n",
      "Epoch 95/100\n",
      "50/50 [==============================] - 19s 374ms/step - loss: 1.0192e-09 - accuracy: 1.0000\n",
      "Epoch 96/100\n",
      "50/50 [==============================] - 19s 387ms/step - loss: 3.9751e-10 - accuracy: 1.0000\n",
      "Epoch 97/100\n",
      "50/50 [==============================] - 19s 383ms/step - loss: 7.2047e-10 - accuracy: 1.0000\n",
      "Epoch 98/100\n",
      "50/50 [==============================] - 19s 383ms/step - loss: 7.4482e-10 - accuracy: 1.0000\n",
      "Epoch 99/100\n",
      "50/50 [==============================] - 22s 440ms/step - loss: 5.2084e-10 - accuracy: 1.0000\n",
      "Epoch 100/100\n",
      "50/50 [==============================] - 25s 494ms/step - loss: 5.4678e-10 - accuracy: 1.0000\n",
      "Saved model to disk\n"
     ]
    }
   ],
   "source": [
    "classifier.fit_generator(train_generator, steps_per_epoch = 50, epochs = 100)\n",
    "saveclassifier(classifier)\n",
    "acc = getpreds(classifier)\n",
    "df= df.append({\"steps\": 50, \"epochs\": 100, \"Accuracy\": acc}, ignore_index=True)"
   ]
  },
  {
   "cell_type": "code",
   "execution_count": 77,
   "metadata": {},
   "outputs": [
    {
     "data": {
      "text/html": [
       "<div>\n",
       "<style scoped>\n",
       "    .dataframe tbody tr th:only-of-type {\n",
       "        vertical-align: middle;\n",
       "    }\n",
       "\n",
       "    .dataframe tbody tr th {\n",
       "        vertical-align: top;\n",
       "    }\n",
       "\n",
       "    .dataframe thead th {\n",
       "        text-align: right;\n",
       "    }\n",
       "</style>\n",
       "<table border=\"1\" class=\"dataframe\">\n",
       "  <thead>\n",
       "    <tr style=\"text-align: right;\">\n",
       "      <th></th>\n",
       "      <th>steps</th>\n",
       "      <th>epochs</th>\n",
       "      <th>Accuracy</th>\n",
       "    </tr>\n",
       "  </thead>\n",
       "  <tbody>\n",
       "    <tr>\n",
       "      <th>0</th>\n",
       "      <td>10.0</td>\n",
       "      <td>10.0</td>\n",
       "      <td>0.75</td>\n",
       "    </tr>\n",
       "    <tr>\n",
       "      <th>1</th>\n",
       "      <td>30.0</td>\n",
       "      <td>10.0</td>\n",
       "      <td>0.75</td>\n",
       "    </tr>\n",
       "    <tr>\n",
       "      <th>2</th>\n",
       "      <td>50.0</td>\n",
       "      <td>10.0</td>\n",
       "      <td>0.75</td>\n",
       "    </tr>\n",
       "    <tr>\n",
       "      <th>3</th>\n",
       "      <td>10.0</td>\n",
       "      <td>20.0</td>\n",
       "      <td>0.75</td>\n",
       "    </tr>\n",
       "    <tr>\n",
       "      <th>4</th>\n",
       "      <td>30.0</td>\n",
       "      <td>20.0</td>\n",
       "      <td>0.75</td>\n",
       "    </tr>\n",
       "    <tr>\n",
       "      <th>5</th>\n",
       "      <td>50.0</td>\n",
       "      <td>20.0</td>\n",
       "      <td>0.75</td>\n",
       "    </tr>\n",
       "    <tr>\n",
       "      <th>6</th>\n",
       "      <td>10.0</td>\n",
       "      <td>30.0</td>\n",
       "      <td>0.75</td>\n",
       "    </tr>\n",
       "    <tr>\n",
       "      <th>7</th>\n",
       "      <td>30.0</td>\n",
       "      <td>30.0</td>\n",
       "      <td>0.75</td>\n",
       "    </tr>\n",
       "    <tr>\n",
       "      <th>8</th>\n",
       "      <td>50.0</td>\n",
       "      <td>30.0</td>\n",
       "      <td>0.75</td>\n",
       "    </tr>\n",
       "    <tr>\n",
       "      <th>9</th>\n",
       "      <td>50.0</td>\n",
       "      <td>30.0</td>\n",
       "      <td>0.75</td>\n",
       "    </tr>\n",
       "    <tr>\n",
       "      <th>10</th>\n",
       "      <td>50.0</td>\n",
       "      <td>100.0</td>\n",
       "      <td>0.75</td>\n",
       "    </tr>\n",
       "  </tbody>\n",
       "</table>\n",
       "</div>"
      ],
      "text/plain": [
       "    steps  epochs  Accuracy\n",
       "0    10.0    10.0      0.75\n",
       "1    30.0    10.0      0.75\n",
       "2    50.0    10.0      0.75\n",
       "3    10.0    20.0      0.75\n",
       "4    30.0    20.0      0.75\n",
       "5    50.0    20.0      0.75\n",
       "6    10.0    30.0      0.75\n",
       "7    30.0    30.0      0.75\n",
       "8    50.0    30.0      0.75\n",
       "9    50.0    30.0      0.75\n",
       "10   50.0   100.0      0.75"
      ]
     },
     "execution_count": 77,
     "metadata": {},
     "output_type": "execute_result"
    }
   ],
   "source": [
    "df"
   ]
  }
 ],
 "metadata": {
  "kernelspec": {
   "display_name": "Python 3",
   "language": "python",
   "name": "python3"
  },
  "language_info": {
   "codemirror_mode": {
    "name": "ipython",
    "version": 3
   },
   "file_extension": ".py",
   "mimetype": "text/x-python",
   "name": "python",
   "nbconvert_exporter": "python",
   "pygments_lexer": "ipython3",
   "version": "3.6.5"
  }
 },
 "nbformat": 4,
 "nbformat_minor": 2
}
